{
 "cells": [
  {
   "cell_type": "code",
   "execution_count": 6,
   "metadata": {},
   "outputs": [],
   "source": [
    "from keras import models\n",
    "from keras import layers\n",
    "from keras import optimizers\n",
    "import numpy as np"
   ]
  },
  {
   "cell_type": "code",
   "execution_count": 7,
   "metadata": {},
   "outputs": [],
   "source": [
    "model = models.Sequential()\n",
    "model.add(layers.Conv2D(32, (3, 3), activation='relu',\n",
    "                        input_shape=(150, 150, 3)))\n",
    "model.add(layers.MaxPooling2D((2,2)))\n",
    "model.add(layers.Conv2D(64, (3, 3), activation='relu'))\n",
    "model.add(layers.MaxPooling2D((2,2)))\n",
    "model.add(layers.Conv2D(128, (3, 3), activation='relu'))\n",
    "model.add(layers.MaxPooling2D((2,2)))\n",
    "model.add(layers.Conv2D(128, (3, 3), activation='relu'))\n",
    "model.add(layers.MaxPooling2D((2,2)))\n",
    "model.add(layers.Flatten())\n",
    "model.add(layers.Dense(512, activation='relu'))\n",
    "model.add(layers.Dense(1, activation='sigmoid'))"
   ]
  },
  {
   "cell_type": "code",
   "execution_count": 8,
   "metadata": {},
   "outputs": [],
   "source": [
    "model.compile(loss='binary_crossentropy',\n",
    "              optimizer=optimizers.RMSprop(learning_rate=1e-4),\n",
    "              metrics=['acc'])"
   ]
  },
  {
   "cell_type": "markdown",
   "metadata": {},
   "source": [
    "Data prepare"
   ]
  },
  {
   "cell_type": "markdown",
   "metadata": {},
   "source": [
    "Use image data generator read the image"
   ]
  },
  {
   "cell_type": "code",
   "execution_count": 9,
   "metadata": {},
   "outputs": [
    {
     "name": "stdout",
     "output_type": "stream",
     "text": [
      "Found 2000 images belonging to 2 classes.\n",
      "Found 1000 images belonging to 2 classes.\n"
     ]
    }
   ],
   "source": [
    "from keras.preprocessing.image import ImageDataGenerator\n",
    "\n",
    "train_dir = r\"kaggle_dataset\\cats_and_dogs_small\\train\"\n",
    "validation_dir = r\"kaggle_dataset\\cats_and_dogs_small\\validation\"\n",
    "test_dir = r\"kaggle_dataset\\cats_and_dogs_small\\test\"\n",
    "\n",
    "train_datagen = ImageDataGenerator(rescale=1./255)\n",
    "test_datagen = ImageDataGenerator(rescale=1./255)\n",
    "\n",
    "train_generator = train_datagen.flow_from_directory(train_dir, target_size = (150, 150), \n",
    "                                                      batch_size=20, class_mode='binary')\n",
    "validation_generator = test_datagen.flow_from_directory(validation_dir, target_size=(150, 150),\n",
    "                                                        batch_size=20, class_mode='binary')"
   ]
  },
  {
   "cell_type": "markdown",
   "metadata": {},
   "source": [
    "train the model"
   ]
  },
  {
   "cell_type": "code",
   "execution_count": 10,
   "metadata": {},
   "outputs": [
    {
     "name": "stdout",
     "output_type": "stream",
     "text": [
      "Epoch 1/30\n"
     ]
    },
    {
     "name": "stderr",
     "output_type": "stream",
     "text": [
      "C:\\Users\\jjjay\\AppData\\Local\\Temp\\ipykernel_19012\\2124789366.py:1: UserWarning: `Model.fit_generator` is deprecated and will be removed in a future version. Please use `Model.fit`, which supports generators.\n",
      "  history = model.fit_generator(train_generator, steps_per_epoch=100,\n"
     ]
    },
    {
     "name": "stdout",
     "output_type": "stream",
     "text": [
      "100/100 [==============================] - 38s 381ms/step - loss: 0.6910 - acc: 0.5405 - val_loss: 0.7040 - val_acc: 0.5000\n",
      "Epoch 2/30\n",
      "100/100 [==============================] - 27s 274ms/step - loss: 0.6775 - acc: 0.5650 - val_loss: 0.6796 - val_acc: 0.5520\n",
      "Epoch 3/30\n",
      "100/100 [==============================] - 32s 316ms/step - loss: 0.6555 - acc: 0.6025 - val_loss: 0.6713 - val_acc: 0.5740\n",
      "Epoch 4/30\n",
      "100/100 [==============================] - 37s 366ms/step - loss: 0.6358 - acc: 0.6350 - val_loss: 0.6821 - val_acc: 0.5690\n",
      "Epoch 5/30\n",
      "100/100 [==============================] - 41s 412ms/step - loss: 0.6014 - acc: 0.6745 - val_loss: 0.6131 - val_acc: 0.6710\n",
      "Epoch 6/30\n",
      "100/100 [==============================] - 33s 330ms/step - loss: 0.5810 - acc: 0.6910 - val_loss: 0.6332 - val_acc: 0.6230\n",
      "Epoch 7/30\n",
      "100/100 [==============================] - 30s 304ms/step - loss: 0.5490 - acc: 0.7070 - val_loss: 0.6365 - val_acc: 0.6590\n",
      "Epoch 8/30\n",
      "100/100 [==============================] - 33s 334ms/step - loss: 0.5249 - acc: 0.7280 - val_loss: 0.6314 - val_acc: 0.6450\n",
      "Epoch 9/30\n",
      "100/100 [==============================] - 38s 380ms/step - loss: 0.5151 - acc: 0.7400 - val_loss: 0.5827 - val_acc: 0.6840\n",
      "Epoch 10/30\n",
      "100/100 [==============================] - 40s 398ms/step - loss: 0.4960 - acc: 0.7605 - val_loss: 0.5799 - val_acc: 0.6840\n",
      "Epoch 11/30\n",
      "100/100 [==============================] - 33s 326ms/step - loss: 0.4705 - acc: 0.7765 - val_loss: 0.5949 - val_acc: 0.6880\n",
      "Epoch 12/30\n",
      "100/100 [==============================] - 35s 351ms/step - loss: 0.4532 - acc: 0.7835 - val_loss: 0.6354 - val_acc: 0.6810\n",
      "Epoch 13/30\n",
      "100/100 [==============================] - 41s 410ms/step - loss: 0.4336 - acc: 0.7900 - val_loss: 0.5850 - val_acc: 0.6960\n",
      "Epoch 14/30\n",
      "100/100 [==============================] - 41s 412ms/step - loss: 0.4134 - acc: 0.8050 - val_loss: 0.5494 - val_acc: 0.7120\n",
      "Epoch 15/30\n",
      "100/100 [==============================] - 37s 373ms/step - loss: 0.3949 - acc: 0.8170 - val_loss: 0.5567 - val_acc: 0.7210\n",
      "Epoch 16/30\n",
      "100/100 [==============================] - 41s 412ms/step - loss: 0.3697 - acc: 0.8365 - val_loss: 0.5769 - val_acc: 0.7240\n",
      "Epoch 17/30\n",
      "100/100 [==============================] - 41s 414ms/step - loss: 0.3478 - acc: 0.8490 - val_loss: 0.5547 - val_acc: 0.7260\n",
      "Epoch 18/30\n",
      "100/100 [==============================] - 35s 349ms/step - loss: 0.3246 - acc: 0.8575 - val_loss: 0.6200 - val_acc: 0.7190\n",
      "Epoch 19/30\n",
      "100/100 [==============================] - 36s 358ms/step - loss: 0.3053 - acc: 0.8720 - val_loss: 0.5874 - val_acc: 0.7210\n",
      "Epoch 20/30\n",
      "100/100 [==============================] - 41s 406ms/step - loss: 0.2758 - acc: 0.8875 - val_loss: 0.5607 - val_acc: 0.7410\n",
      "Epoch 21/30\n",
      "100/100 [==============================] - 35s 350ms/step - loss: 0.2530 - acc: 0.9045 - val_loss: 0.5803 - val_acc: 0.7350\n",
      "Epoch 22/30\n",
      "100/100 [==============================] - 34s 345ms/step - loss: 0.2433 - acc: 0.9015 - val_loss: 0.5779 - val_acc: 0.7370\n",
      "Epoch 23/30\n",
      "100/100 [==============================] - 39s 392ms/step - loss: 0.2180 - acc: 0.9150 - val_loss: 0.6475 - val_acc: 0.7220\n",
      "Epoch 24/30\n",
      "100/100 [==============================] - 38s 381ms/step - loss: 0.1954 - acc: 0.9260 - val_loss: 0.6209 - val_acc: 0.7350\n",
      "Epoch 25/30\n",
      "100/100 [==============================] - 33s 330ms/step - loss: 0.1766 - acc: 0.9400 - val_loss: 0.7300 - val_acc: 0.7110\n",
      "Epoch 26/30\n",
      "100/100 [==============================] - 37s 371ms/step - loss: 0.1626 - acc: 0.9425 - val_loss: 0.6501 - val_acc: 0.7390\n",
      "Epoch 27/30\n",
      "100/100 [==============================] - 41s 412ms/step - loss: 0.1428 - acc: 0.9530 - val_loss: 0.7074 - val_acc: 0.7210\n",
      "Epoch 28/30\n",
      "100/100 [==============================] - 35s 349ms/step - loss: 0.1248 - acc: 0.9595 - val_loss: 0.7215 - val_acc: 0.7300\n",
      "Epoch 29/30\n",
      "100/100 [==============================] - 36s 363ms/step - loss: 0.1040 - acc: 0.9685 - val_loss: 0.7217 - val_acc: 0.7370\n",
      "Epoch 30/30\n",
      "100/100 [==============================] - 41s 407ms/step - loss: 0.0895 - acc: 0.9795 - val_loss: 0.8644 - val_acc: 0.7360\n"
     ]
    }
   ],
   "source": [
    "history = model.fit_generator(train_generator, steps_per_epoch=100,\n",
    "                              epochs=30,\n",
    "                              validation_data=validation_generator,\n",
    "                              validation_steps=50)"
   ]
  },
  {
   "cell_type": "markdown",
   "metadata": {},
   "source": [
    "Store the model"
   ]
  },
  {
   "cell_type": "code",
   "execution_count": 11,
   "metadata": {},
   "outputs": [
    {
     "name": "stderr",
     "output_type": "stream",
     "text": [
      "e:\\anaconda\\Lib\\site-packages\\keras\\src\\engine\\training.py:3000: UserWarning: You are saving your model as an HDF5 file via `model.save()`. This file format is considered legacy. We recommend using instead the native Keras format, e.g. `model.save('my_model.keras')`.\n",
      "  saving_api.save_model(\n"
     ]
    }
   ],
   "source": [
    "model.save('cats_and_dogs_small_1.h5')"
   ]
  },
  {
   "cell_type": "code",
   "execution_count": 12,
   "metadata": {},
   "outputs": [
    {
     "data": {
      "text/plain": [
       "<matplotlib.legend.Legend at 0x1fb8c38a310>"
      ]
     },
     "execution_count": 12,
     "metadata": {},
     "output_type": "execute_result"
    },
    {
     "data": {
      "image/png": "[encoded data removed]",
      "text/plain": [
       "<Figure size 640x480 with 1 Axes>"
      ]
     },
     "metadata": {},
     "output_type": "display_data"
    }
   ],
   "source": [
    "import matplotlib.pyplot as plt\n",
    "\n",
    "acc = history.history['acc']\n",
    "val_acc = history.history['val_acc']\n",
    "loss = history.history['loss']\n",
    "val_loss = history.history['val_loss']\n",
    "\n",
    "epochs = range(1, len(acc) + 1)\n",
    "plt.plot(epochs, acc, 'bo', label = 'Training acc')\n",
    "plt.plot(epochs, val_acc, 'b', label = 'Validation_acc')\n",
    "plt.title('Training and validation accuracy')\n",
    "plt.legend()"
   ]
  }
 ],
 "metadata": {
  "kernelspec": {
   "display_name": "base",
   "language": "python",
   "name": "python3"
  },
  "language_info": {
   "codemirror_mode": {
    "name": "ipython",
    "version": 3
   },
   "file_extension": ".py",
   "mimetype": "text/x-python",
   "name": "python",
   "nbconvert_exporter": "python",
   "pygments_lexer": "ipython3",
   "version": "3.11.4"
  }
 },
 "nbformat": 4,
 "nbformat_minor": 2
}
