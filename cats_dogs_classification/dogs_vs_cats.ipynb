{
 "cells": [
  {
   "cell_type": "code",
   "execution_count": 13,
   "metadata": {},
   "outputs": [],
   "source": [
    "from keras import models\n",
    "from keras import layers\n",
    "from keras import optimizers\n",
    "import numpy as np\n",
    "import os\n",
    "import matplotlib.pyplot as plt"
   ]
  },
  {
   "cell_type": "code",
   "execution_count": 14,
   "metadata": {},
   "outputs": [],
   "source": [
    "model = models.Sequential()\n",
    "model.add(layers.Conv2D(32, (3, 3), activation='relu',\n",
    "                        input_shape=(150, 150, 3)))\n",
    "model.add(layers.MaxPooling2D((2,2)))\n",
    "model.add(layers.Conv2D(64, (3, 3), activation='relu'))\n",
    "model.add(layers.MaxPooling2D((2,2)))\n",
    "model.add(layers.Conv2D(128, (3, 3), activation='relu'))\n",
    "model.add(layers.MaxPooling2D((2,2)))\n",
    "model.add(layers.Conv2D(128, (3, 3), activation='relu'))\n",
    "model.add(layers.MaxPooling2D((2,2)))\n",
    "model.add(layers.Flatten())\n",
    "model.add(layers.Dense(512, activation='relu'))\n",
    "model.add(layers.Dense(1, activation='sigmoid'))"
   ]
  },
  {
   "cell_type": "code",
   "execution_count": 15,
   "metadata": {},
   "outputs": [],
   "source": [
    "model.compile(loss='binary_crossentropy',\n",
    "              optimizer=optimizers.RMSprop(learning_rate=1e-4),\n",
    "              metrics=['acc'])"
   ]
  },
  {
   "cell_type": "markdown",
   "metadata": {},
   "source": [
    "Data prepare"
   ]
  },
  {
   "cell_type": "markdown",
   "metadata": {},
   "source": [
    "Use image data generator read the image"
   ]
  },
  {
   "cell_type": "code",
   "execution_count": 16,
   "metadata": {},
   "outputs": [
    {
     "name": "stdout",
     "output_type": "stream",
     "text": [
      "Found 2000 images belonging to 2 classes.\n",
      "Found 1000 images belonging to 2 classes.\n"
     ]
    }
   ],
   "source": [
    "from keras.preprocessing.image import ImageDataGenerator\n",
    "\n",
    "train_dir = r\"kaggle_dataset\\cats_and_dogs_small\\train\"\n",
    "validation_dir = r\"kaggle_dataset\\cats_and_dogs_small\\validation\"\n",
    "test_dir = r\"kaggle_dataset\\cats_and_dogs_small\\test\"\n",
    "\n",
    "train_datagen = ImageDataGenerator(rescale=1./255)\n",
    "test_datagen = ImageDataGenerator(rescale=1./255)\n",
    "\n",
    "train_generator = train_datagen.flow_from_directory(train_dir, target_size = (150, 150), \n",
    "                                                      batch_size=20, class_mode='binary')\n",
    "validation_generator = test_datagen.flow_from_directory(validation_dir, target_size=(150, 150),\n",
    "                                                        batch_size=20, class_mode='binary')"
   ]
  },
  {
   "cell_type": "markdown",
   "metadata": {},
   "source": [
    "train the model"
   ]
  },
  {
   "cell_type": "code",
   "execution_count": 17,
   "metadata": {},
   "outputs": [
    {
     "name": "stdout",
     "output_type": "stream",
     "text": [
      "Epoch 1/30\n",
      "100/100 [==============================] - 26s 252ms/step - loss: 0.6906 - acc: 0.5210 - val_loss: 0.6904 - val_acc: 0.5190\n",
      "Epoch 2/30\n",
      "100/100 [==============================] - 27s 269ms/step - loss: 0.6723 - acc: 0.5810 - val_loss: 0.6792 - val_acc: 0.5340\n",
      "Epoch 3/30\n",
      "100/100 [==============================] - 29s 294ms/step - loss: 0.6485 - acc: 0.6135 - val_loss: 0.6323 - val_acc: 0.6500\n",
      "Epoch 4/30\n",
      "100/100 [==============================] - 36s 360ms/step - loss: 0.6172 - acc: 0.6595 - val_loss: 0.6538 - val_acc: 0.6010\n",
      "Epoch 5/30\n",
      "100/100 [==============================] - 49s 496ms/step - loss: 0.5765 - acc: 0.6945 - val_loss: 0.6127 - val_acc: 0.6700\n",
      "Epoch 6/30\n",
      "100/100 [==============================] - 43s 431ms/step - loss: 0.5539 - acc: 0.7060 - val_loss: 0.5974 - val_acc: 0.6850\n",
      "Epoch 7/30\n",
      "100/100 [==============================] - 44s 440ms/step - loss: 0.5365 - acc: 0.7315 - val_loss: 0.6136 - val_acc: 0.6530\n",
      "Epoch 8/30\n",
      "100/100 [==============================] - 41s 406ms/step - loss: 0.5136 - acc: 0.7400 - val_loss: 0.5787 - val_acc: 0.6820\n",
      "Epoch 9/30\n",
      "100/100 [==============================] - 38s 379ms/step - loss: 0.4944 - acc: 0.7530 - val_loss: 0.5844 - val_acc: 0.6960\n",
      "Epoch 10/30\n",
      "100/100 [==============================] - 31s 314ms/step - loss: 0.4797 - acc: 0.7670 - val_loss: 0.5622 - val_acc: 0.7070\n",
      "Epoch 11/30\n",
      "100/100 [==============================] - 31s 306ms/step - loss: 0.4606 - acc: 0.7820 - val_loss: 0.5526 - val_acc: 0.7130\n",
      "Epoch 12/30\n",
      "100/100 [==============================] - 34s 337ms/step - loss: 0.4301 - acc: 0.7990 - val_loss: 0.6298 - val_acc: 0.6790\n",
      "Epoch 13/30\n",
      "100/100 [==============================] - 38s 379ms/step - loss: 0.4141 - acc: 0.8055 - val_loss: 0.5452 - val_acc: 0.7260\n",
      "Epoch 14/30\n",
      "100/100 [==============================] - 38s 376ms/step - loss: 0.3859 - acc: 0.8250 - val_loss: 0.5854 - val_acc: 0.7130\n",
      "Epoch 15/30\n",
      "100/100 [==============================] - 31s 314ms/step - loss: 0.3673 - acc: 0.8365 - val_loss: 0.5787 - val_acc: 0.7200\n",
      "Epoch 16/30\n",
      "100/100 [==============================] - 35s 348ms/step - loss: 0.3446 - acc: 0.8510 - val_loss: 0.5840 - val_acc: 0.7200\n",
      "Epoch 17/30\n",
      "100/100 [==============================] - 41s 405ms/step - loss: 0.3244 - acc: 0.8590 - val_loss: 0.7316 - val_acc: 0.6790\n",
      "Epoch 18/30\n",
      "100/100 [==============================] - 37s 370ms/step - loss: 0.3034 - acc: 0.8745 - val_loss: 0.6290 - val_acc: 0.7080\n",
      "Epoch 19/30\n",
      "100/100 [==============================] - 32s 315ms/step - loss: 0.2883 - acc: 0.8785 - val_loss: 0.5664 - val_acc: 0.7430\n",
      "Epoch 20/30\n",
      "100/100 [==============================] - 44s 443ms/step - loss: 0.2608 - acc: 0.8990 - val_loss: 0.6208 - val_acc: 0.7250\n",
      "Epoch 21/30\n",
      "100/100 [==============================] - 53s 526ms/step - loss: 0.2425 - acc: 0.9030 - val_loss: 0.5934 - val_acc: 0.7240\n",
      "Epoch 22/30\n",
      "100/100 [==============================] - 45s 450ms/step - loss: 0.2228 - acc: 0.9170 - val_loss: 0.6174 - val_acc: 0.7290\n",
      "Epoch 23/30\n",
      "100/100 [==============================] - 44s 441ms/step - loss: 0.1998 - acc: 0.9270 - val_loss: 0.6813 - val_acc: 0.7220\n",
      "Epoch 24/30\n",
      "100/100 [==============================] - 50s 497ms/step - loss: 0.1831 - acc: 0.9340 - val_loss: 0.6348 - val_acc: 0.7230\n",
      "Epoch 25/30\n",
      "100/100 [==============================] - 43s 431ms/step - loss: 0.1636 - acc: 0.9375 - val_loss: 0.7210 - val_acc: 0.7150\n",
      "Epoch 26/30\n",
      "100/100 [==============================] - 44s 440ms/step - loss: 0.1391 - acc: 0.9545 - val_loss: 0.6983 - val_acc: 0.7280\n",
      "Epoch 27/30\n",
      "100/100 [==============================] - 35s 353ms/step - loss: 0.1326 - acc: 0.9470 - val_loss: 0.7214 - val_acc: 0.7220\n",
      "Epoch 28/30\n",
      "100/100 [==============================] - 40s 404ms/step - loss: 0.1140 - acc: 0.9630 - val_loss: 0.8183 - val_acc: 0.7260\n",
      "Epoch 29/30\n",
      "100/100 [==============================] - 39s 394ms/step - loss: 0.0952 - acc: 0.9705 - val_loss: 0.8178 - val_acc: 0.7160\n",
      "Epoch 30/30\n",
      "100/100 [==============================] - 46s 461ms/step - loss: 0.0848 - acc: 0.9760 - val_loss: 0.8899 - val_acc: 0.7190\n"
     ]
    }
   ],
   "source": [
    "history = model.fit(train_generator, steps_per_epoch=100,\n",
    "                              epochs=30,\n",
    "                              validation_data=validation_generator,\n",
    "                              validation_steps=50)"
   ]
  },
  {
   "cell_type": "markdown",
   "metadata": {},
   "source": [
    "Save the model"
   ]
  },
  {
   "cell_type": "code",
   "execution_count": 18,
   "metadata": {},
   "outputs": [],
   "source": [
    "model.save('cats_and_dogs_small_1.keras')"
   ]
  },
  {
   "cell_type": "code",
   "execution_count": 19,
   "metadata": {},
   "outputs": [
    {
     "data": {
      "text/plain": [
       "<matplotlib.legend.Legend at 0x1fb8f624ed0>"
      ]
     },
     "execution_count": 19,
     "metadata": {},
     "output_type": "execute_result"
    },
    {
     "data": {
      "image/png": "[encoded data removed]",
      "text/plain": [
       "<Figure size 640x480 with 1 Axes>"
      ]
     },
     "metadata": {},
     "output_type": "display_data"
    }
   ],
   "source": [
    "\n",
    "\n",
    "acc = history.history['acc']\n",
    "val_acc = history.history['val_acc']\n",
    "loss = history.history['loss']\n",
    "val_loss = history.history['val_loss']\n",
    "\n",
    "epochs = range(1, len(acc) + 1)\n",
    "plt.plot(epochs, acc, 'bo', label = 'Training acc')\n",
    "plt.plot(epochs, val_acc, 'b', label = 'Validation_acc')\n",
    "plt.title('Training and validation accuracy')\n",
    "plt.legend()"
   ]
  }
 ],
 "metadata": {
  "kernelspec": {
   "display_name": "base",
   "language": "python",
   "name": "python3"
  },
  "language_info": {
   "codemirror_mode": {
    "name": "ipython",
    "version": 3
   },
   "file_extension": ".py",
   "mimetype": "text/x-python",
   "name": "python",
   "nbconvert_exporter": "python",
   "pygments_lexer": "ipython3",
   "version": "3.11.4"
  }
 },
 "nbformat": 4,
 "nbformat_minor": 2
}
