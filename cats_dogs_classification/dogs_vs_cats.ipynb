{
 "cells": [
  {
   "cell_type": "code",
   "execution_count": 1,
   "metadata": {},
   "outputs": [],
   "source": [
    "from keras import models\n",
    "from keras import layers\n",
    "from keras import optimizers\n",
    "import numpy as np\n",
    "import os\n",
    "import matplotlib.pyplot as plt"
   ]
  },
  {
   "cell_type": "code",
   "execution_count": 2,
   "metadata": {},
   "outputs": [],
   "source": [
    "model = models.Sequential()\n",
    "model.add(layers.Conv2D(32, (3, 3), activation='relu',\n",
    "                        input_shape=(150, 150, 3)))\n",
    "model.add(layers.MaxPooling2D((2,2)))\n",
    "model.add(layers.Conv2D(64, (3, 3), activation='relu'))\n",
    "model.add(layers.MaxPooling2D((2,2)))\n",
    "model.add(layers.Conv2D(128, (3, 3), activation='relu'))\n",
    "model.add(layers.MaxPooling2D((2,2)))\n",
    "model.add(layers.Conv2D(128, (3, 3), activation='relu'))\n",
    "model.add(layers.MaxPooling2D((2,2)))\n",
    "model.add(layers.Flatten())\n",
    "model.add(layers.Dense(512, activation='relu'))\n",
    "model.add(layers.Dense(1, activation='sigmoid'))"
   ]
  },
  {
   "cell_type": "code",
   "execution_count": 3,
   "metadata": {},
   "outputs": [],
   "source": [
    "model.compile(loss='binary_crossentropy',\n",
    "              optimizer=optimizers.RMSprop(learning_rate=1e-4),\n",
    "              metrics=['acc'])"
   ]
  },
  {
   "cell_type": "markdown",
   "metadata": {},
   "source": [
    "Data prepare"
   ]
  },
  {
   "cell_type": "markdown",
   "metadata": {},
   "source": [
    "Use image data generator read the image"
   ]
  },
  {
   "cell_type": "code",
   "execution_count": 4,
   "metadata": {},
   "outputs": [
    {
     "name": "stdout",
     "output_type": "stream",
     "text": [
      "Found 2000 images belonging to 2 classes.\n",
      "Found 1000 images belonging to 2 classes.\n"
     ]
    }
   ],
   "source": [
    "from keras.preprocessing.image import ImageDataGenerator\n",
    "\n",
    "train_dir = r\"kaggle_dataset\\cats_and_dogs_small\\train\"\n",
    "validation_dir = r\"kaggle_dataset\\cats_and_dogs_small\\validation\"\n",
    "test_dir = r\"kaggle_dataset\\cats_and_dogs_small\\test\"\n",
    "\n",
    "train_datagen = ImageDataGenerator(rescale=1./255)\n",
    "test_datagen = ImageDataGenerator(rescale=1./255)\n",
    "\n",
    "train_generator = train_datagen.flow_from_directory(train_dir, target_size = (150, 150), \n",
    "                                                      batch_size=20, class_mode='binary')\n",
    "validation_generator = test_datagen.flow_from_directory(validation_dir, target_size=(150, 150),\n",
    "                                                        batch_size=20, class_mode='binary')"
   ]
  },
  {
   "cell_type": "markdown",
   "metadata": {},
   "source": [
    "train the model"
   ]
  },
  {
   "cell_type": "code",
   "execution_count": 5,
   "metadata": {},
   "outputs": [
    {
     "name": "stdout",
     "output_type": "stream",
     "text": [
      "Epoch 1/30\n",
      "100/100 [==============================] - 63s 622ms/step - loss: 0.6927 - acc: 0.5080 - val_loss: 0.6850 - val_acc: 0.5690\n",
      "Epoch 2/30\n",
      "100/100 [==============================] - 48s 481ms/step - loss: 0.6757 - acc: 0.5780 - val_loss: 0.6621 - val_acc: 0.6150\n",
      "Epoch 3/30\n",
      "100/100 [==============================] - 46s 461ms/step - loss: 0.6573 - acc: 0.6105 - val_loss: 0.6428 - val_acc: 0.6370\n",
      "Epoch 4/30\n",
      "100/100 [==============================] - 44s 443ms/step - loss: 0.6297 - acc: 0.6440 - val_loss: 0.7001 - val_acc: 0.5330\n",
      "Epoch 5/30\n",
      "100/100 [==============================] - 47s 473ms/step - loss: 0.6082 - acc: 0.6710 - val_loss: 0.6106 - val_acc: 0.6670\n",
      "Epoch 6/30\n",
      "100/100 [==============================] - 41s 411ms/step - loss: 0.5789 - acc: 0.6995 - val_loss: 0.6130 - val_acc: 0.6640\n",
      "Epoch 7/30\n",
      "100/100 [==============================] - 47s 469ms/step - loss: 0.5487 - acc: 0.7215 - val_loss: 0.5860 - val_acc: 0.6830\n",
      "Epoch 8/30\n",
      "100/100 [==============================] - 44s 443ms/step - loss: 0.5278 - acc: 0.7420 - val_loss: 0.5646 - val_acc: 0.7170\n",
      "Epoch 9/30\n",
      "100/100 [==============================] - 43s 426ms/step - loss: 0.4995 - acc: 0.7510 - val_loss: 0.7204 - val_acc: 0.6280\n",
      "Epoch 10/30\n",
      "100/100 [==============================] - 48s 478ms/step - loss: 0.4796 - acc: 0.7680 - val_loss: 0.6384 - val_acc: 0.6710\n",
      "Epoch 11/30\n",
      "100/100 [==============================] - 53s 534ms/step - loss: 0.4572 - acc: 0.7825 - val_loss: 0.5443 - val_acc: 0.7260\n",
      "Epoch 12/30\n",
      "100/100 [==============================] - 57s 567ms/step - loss: 0.4350 - acc: 0.8015 - val_loss: 0.5472 - val_acc: 0.7200\n",
      "Epoch 13/30\n",
      "100/100 [==============================] - 50s 499ms/step - loss: 0.4092 - acc: 0.8165 - val_loss: 0.5631 - val_acc: 0.7110\n",
      "Epoch 14/30\n",
      "100/100 [==============================] - 52s 519ms/step - loss: 0.3920 - acc: 0.8205 - val_loss: 0.6339 - val_acc: 0.6910\n",
      "Epoch 15/30\n",
      "100/100 [==============================] - 57s 566ms/step - loss: 0.3602 - acc: 0.8445 - val_loss: 0.5431 - val_acc: 0.7250\n",
      "Epoch 16/30\n",
      "100/100 [==============================] - 50s 497ms/step - loss: 0.3340 - acc: 0.8520 - val_loss: 0.5750 - val_acc: 0.7090\n",
      "Epoch 17/30\n",
      "100/100 [==============================] - 55s 555ms/step - loss: 0.3160 - acc: 0.8795 - val_loss: 0.6265 - val_acc: 0.7120\n",
      "Epoch 18/30\n",
      "100/100 [==============================] - 54s 536ms/step - loss: 0.2969 - acc: 0.8745 - val_loss: 0.5688 - val_acc: 0.7330\n",
      "Epoch 19/30\n",
      "100/100 [==============================] - 47s 473ms/step - loss: 0.2730 - acc: 0.8850 - val_loss: 0.5719 - val_acc: 0.7290\n",
      "Epoch 20/30\n",
      "100/100 [==============================] - 56s 561ms/step - loss: 0.2587 - acc: 0.8985 - val_loss: 0.5759 - val_acc: 0.7240\n",
      "Epoch 21/30\n",
      "100/100 [==============================] - 54s 538ms/step - loss: 0.2285 - acc: 0.9130 - val_loss: 0.6222 - val_acc: 0.7200\n",
      "Epoch 22/30\n",
      "100/100 [==============================] - 48s 476ms/step - loss: 0.2126 - acc: 0.9210 - val_loss: 0.6450 - val_acc: 0.7280\n",
      "Epoch 23/30\n",
      "100/100 [==============================] - 55s 549ms/step - loss: 0.1928 - acc: 0.9305 - val_loss: 0.6591 - val_acc: 0.7250\n",
      "Epoch 24/30\n",
      "100/100 [==============================] - 54s 544ms/step - loss: 0.1608 - acc: 0.9495 - val_loss: 0.6665 - val_acc: 0.7310\n",
      "Epoch 25/30\n",
      "100/100 [==============================] - 44s 442ms/step - loss: 0.1452 - acc: 0.9525 - val_loss: 0.7484 - val_acc: 0.7190\n",
      "Epoch 26/30\n",
      "100/100 [==============================] - 49s 490ms/step - loss: 0.1286 - acc: 0.9570 - val_loss: 0.7194 - val_acc: 0.7300\n",
      "Epoch 27/30\n",
      "100/100 [==============================] - 49s 488ms/step - loss: 0.1165 - acc: 0.9630 - val_loss: 0.8046 - val_acc: 0.7110\n",
      "Epoch 28/30\n",
      "100/100 [==============================] - 48s 477ms/step - loss: 0.0998 - acc: 0.9695 - val_loss: 0.7621 - val_acc: 0.7310\n",
      "Epoch 29/30\n",
      "100/100 [==============================] - 54s 535ms/step - loss: 0.0820 - acc: 0.9770 - val_loss: 0.8357 - val_acc: 0.7260\n",
      "Epoch 30/30\n",
      "100/100 [==============================] - 46s 460ms/step - loss: 0.0718 - acc: 0.9790 - val_loss: 0.9667 - val_acc: 0.7190\n"
     ]
    }
   ],
   "source": [
    "history = model.fit(train_generator, steps_per_epoch=100,\n",
    "                              epochs=30,\n",
    "                              validation_data=validation_generator,\n",
    "                              validation_steps=50)"
   ]
  },
  {
   "cell_type": "markdown",
   "metadata": {},
   "source": [
    "Save the model"
   ]
  },
  {
   "cell_type": "code",
   "execution_count": 6,
   "metadata": {},
   "outputs": [
    {
     "name": "stderr",
     "output_type": "stream",
     "text": [
      "e:\\anaconda\\Lib\\site-packages\\keras\\src\\engine\\training.py:3000: UserWarning: You are saving your model as an HDF5 file via `model.save()`. This file format is considered legacy. We recommend using instead the native Keras format, e.g. `model.save('my_model.keras')`.\n",
      "  saving_api.save_model(\n"
     ]
    }
   ],
   "source": [
    "model.save('cats_and_dogs_small_1.h5')"
   ]
  },
  {
   "cell_type": "code",
   "execution_count": 7,
   "metadata": {},
   "outputs": [
    {
     "data": {
      "text/plain": [
       "<matplotlib.legend.Legend at 0x1c49235e1d0>"
      ]
     },
     "execution_count": 7,
     "metadata": {},
     "output_type": "execute_result"
    },
    {
     "data": {
      "image/png": "[encoded data removed]",
      "text/plain": [
       "<Figure size 640x480 with 1 Axes>"
      ]
     },
     "metadata": {},
     "output_type": "display_data"
    }
   ],
   "source": [
    "\n",
    "\n",
    "acc = history.history['acc']\n",
    "val_acc = history.history['val_acc']\n",
    "loss = history.history['loss']\n",
    "val_loss = history.history['val_loss']\n",
    "\n",
    "epochs = range(1, len(acc) + 1)\n",
    "plt.plot(epochs, acc, 'bo', label = 'Training acc')\n",
    "plt.plot(epochs, val_acc, 'b', label = 'Validation_acc')\n",
    "plt.title('Training and validation accuracy')\n",
    "plt.legend()"
   ]
  }
 ],
 "metadata": {
  "kernelspec": {
   "display_name": "base",
   "language": "python",
   "name": "python3"
  },
  "language_info": {
   "codemirror_mode": {
    "name": "ipython",
    "version": 3
   },
   "file_extension": ".py",
   "mimetype": "text/x-python",
   "name": "python",
   "nbconvert_exporter": "python",
   "pygments_lexer": "ipython3",
   "version": "3.11.4"
  }
 },
 "nbformat": 4,
 "nbformat_minor": 2
}
